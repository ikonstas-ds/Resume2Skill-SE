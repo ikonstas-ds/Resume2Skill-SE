{
 "cells": [
  {
   "cell_type": "code",
   "execution_count": 1,
   "metadata": {},
   "outputs": [],
   "source": [
    "from graphservice.neoservice import neoconnection\n",
    "import pandas as pd\n",
    "from bs4 import BeautifulSoup\n",
    "import unicodedata"
   ]
  },
  {
   "cell_type": "code",
   "execution_count": 98,
   "metadata": {},
   "outputs": [
    {
     "data": {
      "text/html": [
       "<div>\n",
       "<style scoped>\n",
       "    .dataframe tbody tr th:only-of-type {\n",
       "        vertical-align: middle;\n",
       "    }\n",
       "\n",
       "    .dataframe tbody tr th {\n",
       "        vertical-align: top;\n",
       "    }\n",
       "\n",
       "    .dataframe thead th {\n",
       "        text-align: right;\n",
       "    }\n",
       "</style>\n",
       "<table border=\"1\" class=\"dataframe\">\n",
       "  <thead>\n",
       "    <tr style=\"text-align: right;\">\n",
       "      <th></th>\n",
       "      <th>ID</th>\n",
       "      <th>Resume_str</th>\n",
       "      <th>Resume_html</th>\n",
       "      <th>Category</th>\n",
       "    </tr>\n",
       "  </thead>\n",
       "  <tbody>\n",
       "    <tr>\n",
       "      <th>0</th>\n",
       "      <td>16852973</td>\n",
       "      <td>HR ADMINISTRATOR/MARKETING ASSOCIATE\\...</td>\n",
       "      <td>&lt;div class=\"fontsize fontface vmargins hmargin...</td>\n",
       "      <td>HR</td>\n",
       "    </tr>\n",
       "    <tr>\n",
       "      <th>1</th>\n",
       "      <td>22323967</td>\n",
       "      <td>HR SPECIALIST, US HR OPERATIONS      ...</td>\n",
       "      <td>&lt;div class=\"fontsize fontface vmargins hmargin...</td>\n",
       "      <td>HR</td>\n",
       "    </tr>\n",
       "    <tr>\n",
       "      <th>2</th>\n",
       "      <td>33176873</td>\n",
       "      <td>HR DIRECTOR       Summary      Over 2...</td>\n",
       "      <td>&lt;div class=\"fontsize fontface vmargins hmargin...</td>\n",
       "      <td>HR</td>\n",
       "    </tr>\n",
       "  </tbody>\n",
       "</table>\n",
       "</div>"
      ],
      "text/plain": [
       "         ID                                         Resume_str  \\\n",
       "0  16852973           HR ADMINISTRATOR/MARKETING ASSOCIATE\\...   \n",
       "1  22323967           HR SPECIALIST, US HR OPERATIONS      ...   \n",
       "2  33176873           HR DIRECTOR       Summary      Over 2...   \n",
       "\n",
       "                                         Resume_html Category  \n",
       "0  <div class=\"fontsize fontface vmargins hmargin...       HR  \n",
       "1  <div class=\"fontsize fontface vmargins hmargin...       HR  \n",
       "2  <div class=\"fontsize fontface vmargins hmargin...       HR  "
      ]
     },
     "execution_count": 98,
     "metadata": {},
     "output_type": "execute_result"
    }
   ],
   "source": [
    "df = pd.read_csv('data/Resume.csv', encoding='utf-8')\n",
    "df.head(3)"
   ]
  },
  {
   "cell_type": "code",
   "execution_count": 99,
   "metadata": {},
   "outputs": [],
   "source": [
    "def get_experience_descriptions(text_html):\n",
    "    soup = BeautifulSoup(text_html)\n",
    "\n",
    "    experiences_list = soup.find_all('span', class_='jobline')\n",
    "    # print(experiences_list)\n",
    "    if experiences_list:\n",
    "        # print(True)\n",
    "        experiences_list = [item.text.strip() for item in experiences_list ]\n",
    "        experiences_list = [unicodedata.normalize(\"NFKD\", item) for item in experiences_list if len(item)>10]\n",
    "    \n",
    "    return experiences_list\n",
    "    "
   ]
  },
  {
   "cell_type": "code",
   "execution_count": 100,
   "metadata": {},
   "outputs": [],
   "source": [
    "df['experiences'] = df['Resume_html'].apply(get_experience_descriptions)"
   ]
  },
  {
   "cell_type": "code",
   "execution_count": 101,
   "metadata": {},
   "outputs": [],
   "source": [
    "df = df.explode('experiences')"
   ]
  },
  {
   "cell_type": "code",
   "execution_count": 102,
   "metadata": {},
   "outputs": [],
   "source": [
    "df.drop(['Resume_str', 'Resume_html'], axis=1, inplace=True)"
   ]
  },
  {
   "cell_type": "code",
   "execution_count": 103,
   "metadata": {},
   "outputs": [
    {
     "data": {
      "text/plain": [
       "(11472, 3)"
      ]
     },
     "execution_count": 103,
     "metadata": {},
     "output_type": "execute_result"
    }
   ],
   "source": [
    "df.shape"
   ]
  },
  {
   "cell_type": "code",
   "execution_count": 106,
   "metadata": {},
   "outputs": [
    {
     "data": {
      "text/plain": [
       "{'ACCOUNTANT',\n",
       " 'ADVOCATE',\n",
       " 'AGRICULTURE',\n",
       " 'APPAREL',\n",
       " 'ARTS',\n",
       " 'AUTOMOBILE',\n",
       " 'AVIATION',\n",
       " 'BANKING',\n",
       " 'BPO',\n",
       " 'BUSINESS-DEVELOPMENT',\n",
       " 'CHEF',\n",
       " 'CONSTRUCTION',\n",
       " 'CONSULTANT',\n",
       " 'DESIGNER',\n",
       " 'DIGITAL-MEDIA',\n",
       " 'ENGINEERING',\n",
       " 'FINANCE',\n",
       " 'FITNESS',\n",
       " 'HEALTHCARE',\n",
       " 'HR',\n",
       " 'INFORMATION-TECHNOLOGY',\n",
       " 'PUBLIC-RELATIONS',\n",
       " 'SALES',\n",
       " 'TEACHER'}"
      ]
     },
     "execution_count": 106,
     "metadata": {},
     "output_type": "execute_result"
    }
   ],
   "source": [
    "set(df['Category'].values.tolist())"
   ]
  },
  {
   "cell_type": "code",
   "execution_count": 83,
   "metadata": {},
   "outputs": [],
   "source": [
    "import json\n",
    "with open('data/extracted_resumes.json', 'r', encoding='utf-8') as file:\n",
    "        data: dict = json.load(file)"
   ]
  },
  {
   "cell_type": "code",
   "execution_count": 91,
   "metadata": {},
   "outputs": [
    {
     "name": "stderr",
     "output_type": "stream",
     "text": [
      " 26%|██▌       | 3002/11472 [00:24<01:08, 123.06it/s]\n"
     ]
    },
    {
     "ename": "ClientError",
     "evalue": "[Request.InvalidFormat] Could not parse the incoming JSON",
     "output_type": "error",
     "traceback": [
      "\u001b[1;31m---------------------------------------------------------------------------\u001b[0m",
      "\u001b[1;31mClientError\u001b[0m                               Traceback (most recent call last)",
      "\u001b[1;32m<ipython-input-91-405effa903e9>\u001b[0m in \u001b[0;36m<module>\u001b[1;34m\u001b[0m\n\u001b[0;32m     21\u001b[0m \u001b[1;33m\u001b[0m\u001b[0m\n\u001b[0;32m     22\u001b[0m \u001b[1;32mexcept\u001b[0m \u001b[0mException\u001b[0m \u001b[1;32mas\u001b[0m \u001b[0mexc\u001b[0m\u001b[1;33m:\u001b[0m\u001b[1;33m\u001b[0m\u001b[1;33m\u001b[0m\u001b[0m\n\u001b[1;32m---> 23\u001b[1;33m     \u001b[1;32mraise\u001b[0m \u001b[0mexc\u001b[0m\u001b[1;33m\u001b[0m\u001b[1;33m\u001b[0m\u001b[0m\n\u001b[0m",
      "\u001b[1;32m<ipython-input-91-405effa903e9>\u001b[0m in \u001b[0;36m<module>\u001b[1;34m\u001b[0m\n\u001b[0;32m     18\u001b[0m         \u001b[1;32mfor\u001b[0m \u001b[0mb\u001b[0m \u001b[1;32min\u001b[0m \u001b[0mtqdm\u001b[0m\u001b[1;33m(\u001b[0m\u001b[0mrange\u001b[0m\u001b[1;33m(\u001b[0m\u001b[0mn_batches\u001b[0m\u001b[1;33m)\u001b[0m\u001b[1;33m)\u001b[0m\u001b[1;33m:\u001b[0m\u001b[1;33m\u001b[0m\u001b[1;33m\u001b[0m\u001b[0m\n\u001b[0;32m     19\u001b[0m             \u001b[0mtx\u001b[0m \u001b[1;33m=\u001b[0m \u001b[0mgraph\u001b[0m\u001b[1;33m.\u001b[0m\u001b[0mauto\u001b[0m\u001b[1;33m(\u001b[0m\u001b[1;33m)\u001b[0m\u001b[1;33m\u001b[0m\u001b[1;33m\u001b[0m\u001b[0m\n\u001b[1;32m---> 20\u001b[1;33m             \u001b[0mtx\u001b[0m\u001b[1;33m.\u001b[0m\u001b[0mrun\u001b[0m\u001b[1;33m(\u001b[0m\u001b[0mstatement\u001b[0m\u001b[1;33m,\u001b[0m \u001b[1;33m{\u001b[0m\u001b[0mk\u001b[0m\u001b[1;33m:\u001b[0m \u001b[0mnode_data\u001b[0m\u001b[1;33m[\u001b[0m\u001b[0mb\u001b[0m \u001b[1;33m*\u001b[0m \u001b[0mbatch_size\u001b[0m\u001b[1;33m:\u001b[0m\u001b[1;33m(\u001b[0m\u001b[0mb\u001b[0m \u001b[1;33m+\u001b[0m \u001b[1;36m1\u001b[0m\u001b[1;33m)\u001b[0m \u001b[1;33m*\u001b[0m \u001b[0mbatch_size\u001b[0m\u001b[1;33m]\u001b[0m\u001b[1;33m}\u001b[0m\u001b[1;33m)\u001b[0m\u001b[1;33m\u001b[0m\u001b[1;33m\u001b[0m\u001b[0m\n\u001b[0m\u001b[0;32m     21\u001b[0m \u001b[1;33m\u001b[0m\u001b[0m\n\u001b[0;32m     22\u001b[0m \u001b[1;32mexcept\u001b[0m \u001b[0mException\u001b[0m \u001b[1;32mas\u001b[0m \u001b[0mexc\u001b[0m\u001b[1;33m:\u001b[0m\u001b[1;33m\u001b[0m\u001b[1;33m\u001b[0m\u001b[0m\n",
      "\u001b[1;32m~\\anaconda3\\lib\\site-packages\\py2neo\\database.py\u001b[0m in \u001b[0;36mrun\u001b[1;34m(self, cypher, parameters, **kwparameters)\u001b[0m\n\u001b[0;32m    987\u001b[0m                 \u001b[0mresult\u001b[0m \u001b[1;33m=\u001b[0m \u001b[0mself\u001b[0m\u001b[1;33m.\u001b[0m\u001b[0m_connector\u001b[0m\u001b[1;33m.\u001b[0m\u001b[0mrun\u001b[0m\u001b[1;33m(\u001b[0m\u001b[0mself\u001b[0m\u001b[1;33m.\u001b[0m\u001b[0mref\u001b[0m\u001b[1;33m,\u001b[0m \u001b[0mcypher\u001b[0m\u001b[1;33m,\u001b[0m \u001b[0mparameters\u001b[0m\u001b[1;33m)\u001b[0m\u001b[1;33m\u001b[0m\u001b[1;33m\u001b[0m\u001b[0m\n\u001b[0;32m    988\u001b[0m             \u001b[1;32melse\u001b[0m\u001b[1;33m:\u001b[0m\u001b[1;33m\u001b[0m\u001b[1;33m\u001b[0m\u001b[0m\n\u001b[1;32m--> 989\u001b[1;33m                 result = self._connector.auto_run(cypher, parameters,\n\u001b[0m\u001b[0;32m    990\u001b[0m                                                   \u001b[0mgraph_name\u001b[0m\u001b[1;33m=\u001b[0m\u001b[0mself\u001b[0m\u001b[1;33m.\u001b[0m\u001b[0mgraph\u001b[0m\u001b[1;33m.\u001b[0m\u001b[0mname\u001b[0m\u001b[1;33m,\u001b[0m\u001b[1;33m\u001b[0m\u001b[1;33m\u001b[0m\u001b[0m\n\u001b[0;32m    991\u001b[0m                                                   readonly=self.readonly)\n",
      "\u001b[1;32m~\\anaconda3\\lib\\site-packages\\py2neo\\client\\__init__.py\u001b[0m in \u001b[0;36mauto_run\u001b[1;34m(self, cypher, parameters, graph_name, readonly)\u001b[0m\n\u001b[0;32m   1338\u001b[0m         \u001b[0mcx\u001b[0m \u001b[1;33m=\u001b[0m \u001b[0mself\u001b[0m\u001b[1;33m.\u001b[0m\u001b[0m_acquire\u001b[0m\u001b[1;33m(\u001b[0m\u001b[0mgraph_name\u001b[0m\u001b[1;33m)\u001b[0m\u001b[1;33m\u001b[0m\u001b[1;33m\u001b[0m\u001b[0m\n\u001b[0;32m   1339\u001b[0m         \u001b[1;32mtry\u001b[0m\u001b[1;33m:\u001b[0m\u001b[1;33m\u001b[0m\u001b[1;33m\u001b[0m\u001b[0m\n\u001b[1;32m-> 1340\u001b[1;33m             \u001b[1;32mreturn\u001b[0m \u001b[0mcx\u001b[0m\u001b[1;33m.\u001b[0m\u001b[0mauto_run\u001b[0m\u001b[1;33m(\u001b[0m\u001b[0mcypher\u001b[0m\u001b[1;33m,\u001b[0m \u001b[0mparameters\u001b[0m\u001b[1;33m,\u001b[0m \u001b[0mgraph_name\u001b[0m\u001b[1;33m=\u001b[0m\u001b[0mgraph_name\u001b[0m\u001b[1;33m,\u001b[0m \u001b[0mreadonly\u001b[0m\u001b[1;33m=\u001b[0m\u001b[0mreadonly\u001b[0m\u001b[1;33m)\u001b[0m\u001b[1;33m\u001b[0m\u001b[1;33m\u001b[0m\u001b[0m\n\u001b[0m\u001b[0;32m   1341\u001b[0m         \u001b[1;32mexcept\u001b[0m \u001b[1;33m(\u001b[0m\u001b[0mConnectionUnavailable\u001b[0m\u001b[1;33m,\u001b[0m \u001b[0mConnectionBroken\u001b[0m\u001b[1;33m)\u001b[0m\u001b[1;33m:\u001b[0m\u001b[1;33m\u001b[0m\u001b[1;33m\u001b[0m\u001b[0m\n\u001b[0;32m   1342\u001b[0m             \u001b[0mself\u001b[0m\u001b[1;33m.\u001b[0m\u001b[0mprune\u001b[0m\u001b[1;33m(\u001b[0m\u001b[0mcx\u001b[0m\u001b[1;33m.\u001b[0m\u001b[0mprofile\u001b[0m\u001b[1;33m)\u001b[0m\u001b[1;33m\u001b[0m\u001b[1;33m\u001b[0m\u001b[0m\n",
      "\u001b[1;32m~\\anaconda3\\lib\\site-packages\\py2neo\\client\\http.py\u001b[0m in \u001b[0;36mauto_run\u001b[1;34m(self, cypher, parameters, graph_name, readonly)\u001b[0m\n\u001b[0;32m    176\u001b[0m             \u001b[0mr\u001b[0m \u001b[1;33m=\u001b[0m \u001b[0mself\u001b[0m\u001b[1;33m.\u001b[0m\u001b[0m_post\u001b[0m\u001b[1;33m(\u001b[0m\u001b[0mHTTPTransactionRef\u001b[0m\u001b[1;33m.\u001b[0m\u001b[0mautocommit_uri\u001b[0m\u001b[1;33m(\u001b[0m\u001b[0mgraph_name\u001b[0m\u001b[1;33m)\u001b[0m\u001b[1;33m,\u001b[0m \u001b[0mcypher\u001b[0m\u001b[1;33m,\u001b[0m \u001b[0mparameters\u001b[0m\u001b[1;33m)\u001b[0m\u001b[1;33m\u001b[0m\u001b[1;33m\u001b[0m\u001b[0m\n\u001b[0;32m    177\u001b[0m             \u001b[0mrs\u001b[0m \u001b[1;33m=\u001b[0m \u001b[0mHTTPResponse\u001b[0m\u001b[1;33m.\u001b[0m\u001b[0mfrom_json\u001b[0m\u001b[1;33m(\u001b[0m\u001b[0mr\u001b[0m\u001b[1;33m.\u001b[0m\u001b[0mstatus\u001b[0m\u001b[1;33m,\u001b[0m \u001b[0mr\u001b[0m\u001b[1;33m.\u001b[0m\u001b[0mdata\u001b[0m\u001b[1;33m.\u001b[0m\u001b[0mdecode\u001b[0m\u001b[1;33m(\u001b[0m\u001b[1;34m\"utf-8\"\u001b[0m\u001b[1;33m)\u001b[0m\u001b[1;33m)\u001b[0m\u001b[1;33m\u001b[0m\u001b[1;33m\u001b[0m\u001b[0m\n\u001b[1;32m--> 178\u001b[1;33m             \u001b[0mrs\u001b[0m\u001b[1;33m.\u001b[0m\u001b[0maudit\u001b[0m\u001b[1;33m(\u001b[0m\u001b[1;33m)\u001b[0m\u001b[1;33m\u001b[0m\u001b[1;33m\u001b[0m\u001b[0m\n\u001b[0m\u001b[0;32m    179\u001b[0m             \u001b[1;32mreturn\u001b[0m \u001b[0mHTTPResult\u001b[0m\u001b[1;33m(\u001b[0m\u001b[0mHTTPTransactionRef\u001b[0m\u001b[1;33m(\u001b[0m\u001b[0mgraph_name\u001b[0m\u001b[1;33m)\u001b[0m\u001b[1;33m,\u001b[0m \u001b[0mrs\u001b[0m\u001b[1;33m.\u001b[0m\u001b[0mresult\u001b[0m\u001b[1;33m(\u001b[0m\u001b[1;33m)\u001b[0m\u001b[1;33m,\u001b[0m \u001b[0mprofile\u001b[0m\u001b[1;33m=\u001b[0m\u001b[0mself\u001b[0m\u001b[1;33m.\u001b[0m\u001b[0mprofile\u001b[0m\u001b[1;33m)\u001b[0m\u001b[1;33m\u001b[0m\u001b[1;33m\u001b[0m\u001b[0m\n\u001b[0;32m    180\u001b[0m         \u001b[1;32mfinally\u001b[0m\u001b[1;33m:\u001b[0m\u001b[1;33m\u001b[0m\u001b[1;33m\u001b[0m\u001b[0m\n",
      "\u001b[1;32m~\\anaconda3\\lib\\site-packages\\py2neo\\client\\http.py\u001b[0m in \u001b[0;36maudit\u001b[1;34m(self, tx)\u001b[0m\n\u001b[0;32m    480\u001b[0m             \u001b[1;32mif\u001b[0m \u001b[0mtx\u001b[0m \u001b[1;32mis\u001b[0m \u001b[1;32mnot\u001b[0m \u001b[1;32mNone\u001b[0m\u001b[1;33m:\u001b[0m\u001b[1;33m\u001b[0m\u001b[1;33m\u001b[0m\u001b[0m\n\u001b[0;32m    481\u001b[0m                 \u001b[0mtx\u001b[0m\u001b[1;33m.\u001b[0m\u001b[0mmark_broken\u001b[0m\u001b[1;33m(\u001b[0m\u001b[1;33m)\u001b[0m\u001b[1;33m\u001b[0m\u001b[1;33m\u001b[0m\u001b[0m\n\u001b[1;32m--> 482\u001b[1;33m             \u001b[1;32mraise\u001b[0m \u001b[0mfailure\u001b[0m\u001b[1;33m\u001b[0m\u001b[1;33m\u001b[0m\u001b[0m\n\u001b[0m",
      "\u001b[1;31mClientError\u001b[0m: [Request.InvalidFormat] Could not parse the incoming JSON"
     ]
    }
   ],
   "source": [
    "from injection.cypher_queries import injections, esco_injection, skills_injection\n",
    "from math import ceil\n",
    "from tqdm import tqdm\n",
    "from py2neo import Graph\n",
    "from tools.dotenv_read import read_dotenv\n",
    "\n",
    "graph = Graph(**read_dotenv('neo_'))\n",
    "batch_size = 1\n",
    "try:\n",
    "\n",
    "    for k in data.keys():\n",
    "\n",
    "        # logging.info(f'Injecting {k}...')\n",
    "        statement = injections[k]\n",
    "        node_data = data[k]\n",
    "\n",
    "        n_batches = ceil(len(node_data) / batch_size)\n",
    "        for b in tqdm(range(n_batches)):\n",
    "            tx = graph.auto()\n",
    "            tx.run(statement, {k: node_data[b * batch_size:(b + 1) * batch_size]})\n",
    "\n",
    "except Exception as exc:\n",
    "    raise exc"
   ]
  },
  {
   "cell_type": "code",
   "execution_count": 92,
   "metadata": {},
   "outputs": [
    {
     "data": {
      "text/plain": [
       "float"
      ]
     },
     "execution_count": 92,
     "metadata": {},
     "output_type": "execute_result"
    }
   ],
   "source": [
    "type(data[k][3002]['experience_description'])"
   ]
  },
  {
   "cell_type": "code",
   "execution_count": 94,
   "metadata": {},
   "outputs": [],
   "source": [
    "df = pd.read_csv('data/Resume.csv')\n",
    "df['experience_description'] = df['Resume_html'].apply(get_experience_descriptions)\n",
    "df = df.explode('experience_description')\n",
    "df.drop(['Resume_str', 'Resume_html'], axis=1, inplace=True)\n",
    "df.dropna(inplace=True)"
   ]
  },
  {
   "cell_type": "code",
   "execution_count": 96,
   "metadata": {},
   "outputs": [],
   "source": [
    "data = {\n",
    "            'experiences': df.to_dict(orient='records')\n",
    "        }"
   ]
  },
  {
   "cell_type": "code",
   "execution_count": 97,
   "metadata": {},
   "outputs": [
    {
     "data": {
      "text/plain": [
       "{'ID': 91467795,\n",
       " 'Category': 'BUSINESS-DEVELOPMENT',\n",
       " 'experience_description': 'SGW Pharma Marketing is a B2B life science marketing agency focused on connecting drug development companies with target audiences (development partners, investors, service providers etc.) by developing and managing integrated, full circle marketing programs .   Oversaw business, client and vendor negotiations.  Effectively directed internal marketing, communications and sales support staff.  Improved marketing plans, sales strategies and customer relations to maximize business development.  Leveraged industry trends in client markets to shape value-added solutions and approaches for key audiences.  Streamlined operational efficiencies, developed sales tracking reports for planning by executive team.  Maintained strong understanding of competitors, their offerings and their presence across globe.'}"
      ]
     },
     "execution_count": 97,
     "metadata": {},
     "output_type": "execute_result"
    }
   ],
   "source": [
    "data['experiences'][3002]"
   ]
  },
  {
   "cell_type": "code",
   "execution_count": 95,
   "metadata": {},
   "outputs": [
    {
     "data": {
      "text/plain": [
       "ID                                                                 91467795\n",
       "Category                                               BUSINESS-DEVELOPMENT\n",
       "experience_description    SGW Pharma Marketing is a B2B life science mar...\n",
       "Name: 657, dtype: object"
      ]
     },
     "execution_count": 95,
     "metadata": {},
     "output_type": "execute_result"
    }
   ],
   "source": [
    "df.iloc[3002]"
   ]
  },
  {
   "cell_type": "code",
   "execution_count": 76,
   "metadata": {},
   "outputs": [
    {
     "data": {
      "text/html": [
       "<div>\n",
       "<style scoped>\n",
       "    .dataframe tbody tr th:only-of-type {\n",
       "        vertical-align: middle;\n",
       "    }\n",
       "\n",
       "    .dataframe tbody tr th {\n",
       "        vertical-align: top;\n",
       "    }\n",
       "\n",
       "    .dataframe thead th {\n",
       "        text-align: right;\n",
       "    }\n",
       "</style>\n",
       "<table border=\"1\" class=\"dataframe\">\n",
       "  <thead>\n",
       "    <tr style=\"text-align: right;\">\n",
       "      <th></th>\n",
       "      <th>ID</th>\n",
       "      <th>Category</th>\n",
       "      <th>experiences</th>\n",
       "    </tr>\n",
       "  </thead>\n",
       "  <tbody>\n",
       "  </tbody>\n",
       "</table>\n",
       "</div>"
      ],
      "text/plain": [
       "Empty DataFrame\n",
       "Columns: [ID, Category, experiences]\n",
       "Index: []"
      ]
     },
     "execution_count": 76,
     "metadata": {},
     "output_type": "execute_result"
    }
   ],
   "source": [
    "df[df['Category'].isnull()]"
   ]
  },
  {
   "cell_type": "code",
   "execution_count": null,
   "metadata": {},
   "outputs": [],
   "source": [
    "df.to_dict(orient='records')"
   ]
  },
  {
   "cell_type": "code",
   "execution_count": 3,
   "metadata": {},
   "outputs": [
    {
     "data": {
      "text/html": [
       "<div>\n",
       "<style scoped>\n",
       "    .dataframe tbody tr th:only-of-type {\n",
       "        vertical-align: middle;\n",
       "    }\n",
       "\n",
       "    .dataframe tbody tr th {\n",
       "        vertical-align: top;\n",
       "    }\n",
       "\n",
       "    .dataframe thead th {\n",
       "        text-align: right;\n",
       "    }\n",
       "</style>\n",
       "<table border=\"1\" class=\"dataframe\">\n",
       "  <thead>\n",
       "    <tr style=\"text-align: right;\">\n",
       "      <th></th>\n",
       "      <th>ID</th>\n",
       "      <th>Resume_str</th>\n",
       "      <th>Resume_html</th>\n",
       "      <th>Category</th>\n",
       "    </tr>\n",
       "  </thead>\n",
       "  <tbody>\n",
       "    <tr>\n",
       "      <th>0</th>\n",
       "      <td>16852973</td>\n",
       "      <td>HR ADMINISTRATOR/MARKETING ASSOCIATE\\...</td>\n",
       "      <td>&lt;div class=\"fontsize fontface vmargins hmargin...</td>\n",
       "      <td>HR</td>\n",
       "    </tr>\n",
       "    <tr>\n",
       "      <th>1</th>\n",
       "      <td>22323967</td>\n",
       "      <td>HR SPECIALIST, US HR OPERATIONS      ...</td>\n",
       "      <td>&lt;div class=\"fontsize fontface vmargins hmargin...</td>\n",
       "      <td>HR</td>\n",
       "    </tr>\n",
       "    <tr>\n",
       "      <th>2</th>\n",
       "      <td>33176873</td>\n",
       "      <td>HR DIRECTOR       Summary      Over 2...</td>\n",
       "      <td>&lt;div class=\"fontsize fontface vmargins hmargin...</td>\n",
       "      <td>HR</td>\n",
       "    </tr>\n",
       "  </tbody>\n",
       "</table>\n",
       "</div>"
      ],
      "text/plain": [
       "         ID                                         Resume_str  \\\n",
       "0  16852973           HR ADMINISTRATOR/MARKETING ASSOCIATE\\...   \n",
       "1  22323967           HR SPECIALIST, US HR OPERATIONS      ...   \n",
       "2  33176873           HR DIRECTOR       Summary      Over 2...   \n",
       "\n",
       "                                         Resume_html Category  \n",
       "0  <div class=\"fontsize fontface vmargins hmargin...       HR  \n",
       "1  <div class=\"fontsize fontface vmargins hmargin...       HR  \n",
       "2  <div class=\"fontsize fontface vmargins hmargin...       HR  "
      ]
     },
     "execution_count": 3,
     "metadata": {},
     "output_type": "execute_result"
    }
   ],
   "source": [
    "df = pd.read_csv('data/Resume.csv')\n",
    "df.head(3)"
   ]
  },
  {
   "cell_type": "code",
   "execution_count": 4,
   "metadata": {},
   "outputs": [],
   "source": [
    "df_shuf = df.sample(frac=1, random_state=2022).reset_index(drop=True)"
   ]
  },
  {
   "cell_type": "code",
   "execution_count": 5,
   "metadata": {},
   "outputs": [],
   "source": [
    "df_final = pd.DataFrame()\n",
    "for categ, item in df_shuf.groupby('Category'):\n",
    "    df_final = pd.concat([df_final, item.iloc[:10]])\n"
   ]
  },
  {
   "cell_type": "code",
   "execution_count": 6,
   "metadata": {},
   "outputs": [
    {
     "data": {
      "text/plain": [
       "(240, 4)"
      ]
     },
     "execution_count": 6,
     "metadata": {},
     "output_type": "execute_result"
    }
   ],
   "source": [
    "df_final.shape"
   ]
  },
  {
   "cell_type": "code",
   "execution_count": 7,
   "metadata": {},
   "outputs": [],
   "source": [
    "frm_ids = df_final['ID'].values.tolist()\n"
   ]
  },
  {
   "cell_type": "code",
   "execution_count": 8,
   "metadata": {},
   "outputs": [],
   "source": [
    "from evaluation.evaluation_setup import Evaluator\n",
    "evl = Evaluator()"
   ]
  },
  {
   "cell_type": "code",
   "execution_count": null,
   "metadata": {},
   "outputs": [],
   "source": [
    "formulas = [f'formula{str(i+1)}' for i in range(4)]\n",
    "cross_sector_options = [False, True]\n",
    "for option in cross_sector_options:\n",
    "    no_cross_sector = \"_no_cross_sector\" if option else \"\"\n",
    "    for formula in formulas:\n",
    "        \n",
    "        test_scores = evl.get_sim_profiles_results(sourceIds=frm_ids, evaluation_path='tests/results.csv',\n",
    "                                test_name=formula+no_cross_sector, sim_score_formula=formula,\n",
    "                                no_cross_sector=option, topk=10)"
   ]
  },
  {
   "cell_type": "code",
   "execution_count": 2,
   "metadata": {},
   "outputs": [
    {
     "name": "stdout",
     "output_type": "stream",
     "text": [
      "(11468, 4)\n"
     ]
    },
    {
     "data": {
      "text/html": [
       "<div>\n",
       "<style scoped>\n",
       "    .dataframe tbody tr th:only-of-type {\n",
       "        vertical-align: middle;\n",
       "    }\n",
       "\n",
       "    .dataframe tbody tr th {\n",
       "        vertical-align: top;\n",
       "    }\n",
       "\n",
       "    .dataframe thead th {\n",
       "        text-align: right;\n",
       "    }\n",
       "</style>\n",
       "<table border=\"1\" class=\"dataframe\">\n",
       "  <thead>\n",
       "    <tr style=\"text-align: right;\">\n",
       "      <th></th>\n",
       "      <th>ind</th>\n",
       "      <th>ID</th>\n",
       "      <th>Category</th>\n",
       "      <th>experience_description</th>\n",
       "    </tr>\n",
       "  </thead>\n",
       "  <tbody>\n",
       "    <tr>\n",
       "      <th>0</th>\n",
       "      <td>0</td>\n",
       "      <td>16852973</td>\n",
       "      <td>HR</td>\n",
       "      <td>Helps to develop policies, directs and coordin...</td>\n",
       "    </tr>\n",
       "    <tr>\n",
       "      <th>1</th>\n",
       "      <td>1</td>\n",
       "      <td>16852973</td>\n",
       "      <td>HR</td>\n",
       "      <td>Reviewed medical bills for the accuracy of the...</td>\n",
       "    </tr>\n",
       "    <tr>\n",
       "      <th>2</th>\n",
       "      <td>2</td>\n",
       "      <td>16852973</td>\n",
       "      <td>HR</td>\n",
       "      <td>Performed duties including but not limited to,...</td>\n",
       "    </tr>\n",
       "  </tbody>\n",
       "</table>\n",
       "</div>"
      ],
      "text/plain": [
       "   ind        ID Category                             experience_description\n",
       "0    0  16852973       HR  Helps to develop policies, directs and coordin...\n",
       "1    1  16852973       HR  Reviewed medical bills for the accuracy of the...\n",
       "2    2  16852973       HR  Performed duties including but not limited to,..."
      ]
     },
     "execution_count": 2,
     "metadata": {},
     "output_type": "execute_result"
    }
   ],
   "source": [
    "import json\n",
    "with open('data/extracted_resumes.json', 'r', encoding='utf-8') as file:\n",
    "        data: dict = json.load(file)\n",
    "    \n",
    "data = pd.DataFrame(data['experiences'])\n",
    "print(data.shape)\n",
    "# data.reset_index(inplace=True)\n",
    "# data.rename(columns={'index':'ind'}, inplace=True)\n",
    "data.head(3)\n"
   ]
  },
  {
   "cell_type": "code",
   "execution_count": 11,
   "metadata": {},
   "outputs": [],
   "source": [
    "import numpy as np\n",
    "exp_embeddings = np.load('data/experiences_embedddings.npy')\n",
    "\n",
    "data['emb'] = data.apply(lambda row: exp_embeddings[row[0]], axis=1)"
   ]
  },
  {
   "cell_type": "code",
   "execution_count": 11,
   "metadata": {},
   "outputs": [
    {
     "data": {
      "text/plain": [
       "(4, 768)"
      ]
     },
     "execution_count": 11,
     "metadata": {},
     "output_type": "execute_result"
    }
   ],
   "source": [
    "q = data[data['ID'].isin([16852973])]['emb'].values\n",
    "np.stack(q).shape"
   ]
  },
  {
   "cell_type": "code",
   "execution_count": 12,
   "metadata": {},
   "outputs": [
    {
     "data": {
      "text/plain": [
       "(11468, 768)"
      ]
     },
     "execution_count": 12,
     "metadata": {},
     "output_type": "execute_result"
    }
   ],
   "source": [
    "exp_embeddings.shape"
   ]
  },
  {
   "cell_type": "code",
   "execution_count": 13,
   "metadata": {},
   "outputs": [
    {
     "data": {
      "text/plain": [
       "(11468, 5)"
      ]
     },
     "execution_count": 13,
     "metadata": {},
     "output_type": "execute_result"
    }
   ],
   "source": [
    "data.shape"
   ]
  },
  {
   "cell_type": "code",
   "execution_count": 14,
   "metadata": {},
   "outputs": [
    {
     "data": {
      "text/html": [
       "<div>\n",
       "<style scoped>\n",
       "    .dataframe tbody tr th:only-of-type {\n",
       "        vertical-align: middle;\n",
       "    }\n",
       "\n",
       "    .dataframe tbody tr th {\n",
       "        vertical-align: top;\n",
       "    }\n",
       "\n",
       "    .dataframe thead th {\n",
       "        text-align: right;\n",
       "    }\n",
       "</style>\n",
       "<table border=\"1\" class=\"dataframe\">\n",
       "  <thead>\n",
       "    <tr style=\"text-align: right;\">\n",
       "      <th></th>\n",
       "      <th>ind</th>\n",
       "      <th>ID</th>\n",
       "      <th>Category</th>\n",
       "      <th>experience_description</th>\n",
       "      <th>emb</th>\n",
       "    </tr>\n",
       "  </thead>\n",
       "  <tbody>\n",
       "    <tr>\n",
       "      <th>0</th>\n",
       "      <td>0</td>\n",
       "      <td>16852973</td>\n",
       "      <td>HR</td>\n",
       "      <td>Helps to develop policies, directs and coordin...</td>\n",
       "      <td>[0.037985392, -0.024676878, -0.01566813, -0.02...</td>\n",
       "    </tr>\n",
       "    <tr>\n",
       "      <th>1</th>\n",
       "      <td>1</td>\n",
       "      <td>16852973</td>\n",
       "      <td>HR</td>\n",
       "      <td>Reviewed medical bills for the accuracy of the...</td>\n",
       "      <td>[-0.001415999, -0.031405974, -0.009812766, -0....</td>\n",
       "    </tr>\n",
       "    <tr>\n",
       "      <th>2</th>\n",
       "      <td>2</td>\n",
       "      <td>16852973</td>\n",
       "      <td>HR</td>\n",
       "      <td>Performed duties including but not limited to,...</td>\n",
       "      <td>[0.030036539, -0.021883393, 0.011026299, 0.037...</td>\n",
       "    </tr>\n",
       "    <tr>\n",
       "      <th>3</th>\n",
       "      <td>3</td>\n",
       "      <td>16852973</td>\n",
       "      <td>HR</td>\n",
       "      <td>Provided assistance to various department head...</td>\n",
       "      <td>[0.04964292, -0.045114703, -0.024170047, -0.00...</td>\n",
       "    </tr>\n",
       "    <tr>\n",
       "      <th>4</th>\n",
       "      <td>4</td>\n",
       "      <td>22323967</td>\n",
       "      <td>HR</td>\n",
       "      <td>Managed communication regarding launch of Oper...</td>\n",
       "      <td>[0.025132444, 0.01740369, -0.020966815, -0.070...</td>\n",
       "    </tr>\n",
       "    <tr>\n",
       "      <th>...</th>\n",
       "      <td>...</td>\n",
       "      <td>...</td>\n",
       "      <td>...</td>\n",
       "      <td>...</td>\n",
       "      <td>...</td>\n",
       "    </tr>\n",
       "    <tr>\n",
       "      <th>11463</th>\n",
       "      <td>11463</td>\n",
       "      <td>21190805</td>\n",
       "      <td>AVIATION</td>\n",
       "      <td>Collaborated with Customer Care / In-Flight Ma...</td>\n",
       "      <td>[0.044099122, -0.033639565, -0.004084603, -0.0...</td>\n",
       "    </tr>\n",
       "    <tr>\n",
       "      <th>11464</th>\n",
       "      <td>11464</td>\n",
       "      <td>37473139</td>\n",
       "      <td>AVIATION</td>\n",
       "      <td>Maintaining and reconciling inventory through ...</td>\n",
       "      <td>[0.016481841, 0.022426397, -0.015682258, -0.00...</td>\n",
       "    </tr>\n",
       "    <tr>\n",
       "      <th>11465</th>\n",
       "      <td>11465</td>\n",
       "      <td>37473139</td>\n",
       "      <td>AVIATION</td>\n",
       "      <td>Shipping: Fulfill orders with use of Infrared ...</td>\n",
       "      <td>[0.015845729, -0.023523834, -0.02283112, -0.00...</td>\n",
       "    </tr>\n",
       "    <tr>\n",
       "      <th>11466</th>\n",
       "      <td>11466</td>\n",
       "      <td>37473139</td>\n",
       "      <td>AVIATION</td>\n",
       "      <td>Performance areas include: Interviewing prospe...</td>\n",
       "      <td>[-0.0073799593, 0.08391202, -0.01131346, -0.00...</td>\n",
       "    </tr>\n",
       "    <tr>\n",
       "      <th>11467</th>\n",
       "      <td>11467</td>\n",
       "      <td>37473139</td>\n",
       "      <td>AVIATION</td>\n",
       "      <td>Line division supervisor assistant, plain capt...</td>\n",
       "      <td>[0.030027166, -0.0089196805, -0.008436867, -0....</td>\n",
       "    </tr>\n",
       "  </tbody>\n",
       "</table>\n",
       "<p>11468 rows × 5 columns</p>\n",
       "</div>"
      ],
      "text/plain": [
       "         ind        ID  Category  \\\n",
       "0          0  16852973        HR   \n",
       "1          1  16852973        HR   \n",
       "2          2  16852973        HR   \n",
       "3          3  16852973        HR   \n",
       "4          4  22323967        HR   \n",
       "...      ...       ...       ...   \n",
       "11463  11463  21190805  AVIATION   \n",
       "11464  11464  37473139  AVIATION   \n",
       "11465  11465  37473139  AVIATION   \n",
       "11466  11466  37473139  AVIATION   \n",
       "11467  11467  37473139  AVIATION   \n",
       "\n",
       "                                  experience_description  \\\n",
       "0      Helps to develop policies, directs and coordin...   \n",
       "1      Reviewed medical bills for the accuracy of the...   \n",
       "2      Performed duties including but not limited to,...   \n",
       "3      Provided assistance to various department head...   \n",
       "4      Managed communication regarding launch of Oper...   \n",
       "...                                                  ...   \n",
       "11463  Collaborated with Customer Care / In-Flight Ma...   \n",
       "11464  Maintaining and reconciling inventory through ...   \n",
       "11465  Shipping: Fulfill orders with use of Infrared ...   \n",
       "11466  Performance areas include: Interviewing prospe...   \n",
       "11467  Line division supervisor assistant, plain capt...   \n",
       "\n",
       "                                                     emb  \n",
       "0      [0.037985392, -0.024676878, -0.01566813, -0.02...  \n",
       "1      [-0.001415999, -0.031405974, -0.009812766, -0....  \n",
       "2      [0.030036539, -0.021883393, 0.011026299, 0.037...  \n",
       "3      [0.04964292, -0.045114703, -0.024170047, -0.00...  \n",
       "4      [0.025132444, 0.01740369, -0.020966815, -0.070...  \n",
       "...                                                  ...  \n",
       "11463  [0.044099122, -0.033639565, -0.004084603, -0.0...  \n",
       "11464  [0.016481841, 0.022426397, -0.015682258, -0.00...  \n",
       "11465  [0.015845729, -0.023523834, -0.02283112, -0.00...  \n",
       "11466  [-0.0073799593, 0.08391202, -0.01131346, -0.00...  \n",
       "11467  [0.030027166, -0.0089196805, -0.008436867, -0....  \n",
       "\n",
       "[11468 rows x 5 columns]"
      ]
     },
     "execution_count": 14,
     "metadata": {},
     "output_type": "execute_result"
    }
   ],
   "source": [
    "data[data['experience_description'].apply(lambda x: True if len(x)>10 else False)]"
   ]
  },
  {
   "cell_type": "code",
   "execution_count": 17,
   "metadata": {},
   "outputs": [
    {
     "data": {
      "text/plain": [
       "False"
      ]
     },
     "execution_count": 17,
     "metadata": {},
     "output_type": "execute_result"
    }
   ],
   "source": [
    "data.isna().values.any()"
   ]
  },
  {
   "cell_type": "code",
   "execution_count": 18,
   "metadata": {},
   "outputs": [],
   "source": [
    "import numpy as np\n",
    "q = np.load('data/ESCO/esco_embedddings.npy')"
   ]
  },
  {
   "cell_type": "code",
   "execution_count": 24,
   "metadata": {},
   "outputs": [],
   "source": [
    "def get_experience_descriptions(text_html):\n",
    "    soup = BeautifulSoup(text_html, \"html.parser\")\n",
    "\n",
    "    experiences_list = soup.find_all('span', class_='jobline')\n",
    "    # print(experiences_list)\n",
    "    if experiences_list:\n",
    "        # print(True)\n",
    "        experiences_list = [item.text.strip() for item in experiences_list ]\n",
    "        experiences_list = [str(unicodedata.normalize(\"NFKD\", item)) for item in experiences_list if len(item)>10]\n",
    "    \n",
    "    return experiences_list\n",
    "\n",
    "\n",
    "def extract_experiences(df):\n",
    "    df['experience_description'] = df['Resume_html'].apply(get_experience_descriptions)\n",
    "    df = df.explode('experience_description')\n",
    "    df.drop(['Resume_str', 'Resume_html'], axis=1, inplace=True)\n",
    "    df.dropna(inplace=True)\n",
    "    df.reset_index(inplace=True)\n",
    "    df.rename(columns={'index':'ind'}, inplace=True)\n",
    "\n",
    "    return df"
   ]
  },
  {
   "cell_type": "code",
   "execution_count": 30,
   "metadata": {},
   "outputs": [],
   "source": [
    "df = pd.read_csv('data/Resume.csv')\n",
    "\n",
    "# df = extract_experiences(df)\n",
    "\n",
    "# data = {\n",
    "#     'experiences': df.to_dict(orient='records')\n",
    "# }"
   ]
  },
  {
   "cell_type": "code",
   "execution_count": 31,
   "metadata": {},
   "outputs": [],
   "source": [
    "df['experience_description'] = df['Resume_html'].apply(get_experience_descriptions)\n",
    "df = df.explode('experience_description')\n",
    "df.drop(['Resume_str', 'Resume_html'], axis=1, inplace=True)\n",
    "df.dropna(inplace=True)\n",
    "df.reset_index(inplace=True, drop=True)\n",
    "df.reset_index(inplace=True)\n",
    "df.rename(columns={'index':'ind'}, inplace=True)"
   ]
  },
  {
   "cell_type": "code",
   "execution_count": 32,
   "metadata": {},
   "outputs": [
    {
     "data": {
      "text/html": [
       "<div>\n",
       "<style scoped>\n",
       "    .dataframe tbody tr th:only-of-type {\n",
       "        vertical-align: middle;\n",
       "    }\n",
       "\n",
       "    .dataframe tbody tr th {\n",
       "        vertical-align: top;\n",
       "    }\n",
       "\n",
       "    .dataframe thead th {\n",
       "        text-align: right;\n",
       "    }\n",
       "</style>\n",
       "<table border=\"1\" class=\"dataframe\">\n",
       "  <thead>\n",
       "    <tr style=\"text-align: right;\">\n",
       "      <th></th>\n",
       "      <th>ind</th>\n",
       "      <th>ID</th>\n",
       "      <th>Category</th>\n",
       "      <th>experience_description</th>\n",
       "    </tr>\n",
       "  </thead>\n",
       "  <tbody>\n",
       "    <tr>\n",
       "      <th>0</th>\n",
       "      <td>0</td>\n",
       "      <td>16852973</td>\n",
       "      <td>HR</td>\n",
       "      <td>Helps to develop policies, directs and coordin...</td>\n",
       "    </tr>\n",
       "    <tr>\n",
       "      <th>1</th>\n",
       "      <td>1</td>\n",
       "      <td>16852973</td>\n",
       "      <td>HR</td>\n",
       "      <td>Reviewed medical bills for the accuracy of the...</td>\n",
       "    </tr>\n",
       "    <tr>\n",
       "      <th>2</th>\n",
       "      <td>2</td>\n",
       "      <td>16852973</td>\n",
       "      <td>HR</td>\n",
       "      <td>Performed duties including but not limited to,...</td>\n",
       "    </tr>\n",
       "  </tbody>\n",
       "</table>\n",
       "</div>"
      ],
      "text/plain": [
       "   ind        ID Category                             experience_description\n",
       "0    0  16852973       HR  Helps to develop policies, directs and coordin...\n",
       "1    1  16852973       HR  Reviewed medical bills for the accuracy of the...\n",
       "2    2  16852973       HR  Performed duties including but not limited to,..."
      ]
     },
     "execution_count": 32,
     "metadata": {},
     "output_type": "execute_result"
    }
   ],
   "source": [
    "df.head(3)"
   ]
  },
  {
   "cell_type": "code",
   "execution_count": 1,
   "metadata": {},
   "outputs": [],
   "source": [
    "from skills_extract.esco_skills_match import SkillExtractor\n",
    "skill_extr_obj = SkillExtractor()"
   ]
  },
  {
   "cell_type": "code",
   "execution_count": 20,
   "metadata": {},
   "outputs": [
    {
     "data": {
      "text/html": [
       "<div>\n",
       "<style scoped>\n",
       "    .dataframe tbody tr th:only-of-type {\n",
       "        vertical-align: middle;\n",
       "    }\n",
       "\n",
       "    .dataframe tbody tr th {\n",
       "        vertical-align: top;\n",
       "    }\n",
       "\n",
       "    .dataframe thead th {\n",
       "        text-align: right;\n",
       "    }\n",
       "</style>\n",
       "<table border=\"1\" class=\"dataframe\">\n",
       "  <thead>\n",
       "    <tr style=\"text-align: right;\">\n",
       "      <th></th>\n",
       "      <th>reuseLevel</th>\n",
       "      <th>preferredLabel</th>\n",
       "      <th>description</th>\n",
       "    </tr>\n",
       "  </thead>\n",
       "  <tbody>\n",
       "    <tr>\n",
       "      <th>9899</th>\n",
       "      <td>sector-specific</td>\n",
       "      <td>create architectural sketches</td>\n",
       "      <td>Create architectural sketches for the design a...</td>\n",
       "    </tr>\n",
       "    <tr>\n",
       "      <th>10061</th>\n",
       "      <td>cross-sector</td>\n",
       "      <td>draw blueprints</td>\n",
       "      <td>Draw layout specifications for machinery, equi...</td>\n",
       "    </tr>\n",
       "    <tr>\n",
       "      <th>12080</th>\n",
       "      <td>cross-sector</td>\n",
       "      <td>develop design plans</td>\n",
       "      <td>Develop design plans by using computer-aided-d...</td>\n",
       "    </tr>\n",
       "    <tr>\n",
       "      <th>6429</th>\n",
       "      <td>cross-sector</td>\n",
       "      <td>make architectural mock-ups</td>\n",
       "      <td>Make a scale model that represents the vision ...</td>\n",
       "    </tr>\n",
       "    <tr>\n",
       "      <th>4451</th>\n",
       "      <td>occupation-specific</td>\n",
       "      <td>define set materials</td>\n",
       "      <td>Make set construction drawings, define a prope...</td>\n",
       "    </tr>\n",
       "  </tbody>\n",
       "</table>\n",
       "</div>"
      ],
      "text/plain": [
       "                reuseLevel                 preferredLabel  \\\n",
       "9899       sector-specific  create architectural sketches   \n",
       "10061         cross-sector                draw blueprints   \n",
       "12080         cross-sector           develop design plans   \n",
       "6429          cross-sector    make architectural mock-ups   \n",
       "4451   occupation-specific           define set materials   \n",
       "\n",
       "                                             description  \n",
       "9899   Create architectural sketches for the design a...  \n",
       "10061  Draw layout specifications for machinery, equi...  \n",
       "12080  Develop design plans by using computer-aided-d...  \n",
       "6429   Make a scale model that represents the vision ...  \n",
       "4451   Make set construction drawings, define a prope...  "
      ]
     },
     "execution_count": 20,
     "metadata": {},
     "output_type": "execute_result"
    }
   ],
   "source": [
    "topk=5\n",
    "texts = [\n",
    "\"Assistant in site supervision and design of interior fittings of a hotel.\",\n",
    "\n",
    "\n",
    "\"Design of houses and gas stations in Autocad R12.\",\n",
    "\n",
    "\n",
    "\"Process corporate actions in clients' holdings.\",\n",
    "\n",
    "\n",
    "\"Assistant in HVAC design (Autocad), PEB / insulation calculations.\",\n",
    "\n",
    "\n",
    "\"Co-ordination of interior finishes, preparation of shop drawings in Autocad 2000 for the fit-out of the Petronas Twin Towers(office building).\"\n",
    "]\n",
    "emb_doc = skill_extr_obj.model.encode(texts)\n",
    "D, i = skill_extr_obj.index.search(emb_doc, topk)\n",
    "q = skill_extr_obj.get_skills_by_ids(i[4].tolist())[['reuseLevel', 'preferredLabel', 'description']]\n",
    "q"
   ]
  },
  {
   "cell_type": "code",
   "execution_count": 15,
   "metadata": {},
   "outputs": [
    {
     "data": {
      "text/html": [
       "<div>\n",
       "<style scoped>\n",
       "    .dataframe tbody tr th:only-of-type {\n",
       "        vertical-align: middle;\n",
       "    }\n",
       "\n",
       "    .dataframe tbody tr th {\n",
       "        vertical-align: top;\n",
       "    }\n",
       "\n",
       "    .dataframe thead th {\n",
       "        text-align: right;\n",
       "    }\n",
       "</style>\n",
       "<table border=\"1\" class=\"dataframe\">\n",
       "  <thead>\n",
       "    <tr style=\"text-align: right;\">\n",
       "      <th></th>\n",
       "      <th>reuseLevel</th>\n",
       "      <th>preferredLabel</th>\n",
       "      <th>description</th>\n",
       "    </tr>\n",
       "  </thead>\n",
       "  <tbody>\n",
       "    <tr>\n",
       "      <th>4849</th>\n",
       "      <td>sector-specific</td>\n",
       "      <td>collaborate with technical experts on artworks</td>\n",
       "      <td>Collaborate with engineers, mechanics, and oth...</td>\n",
       "    </tr>\n",
       "    <tr>\n",
       "      <th>6607</th>\n",
       "      <td>cross-sector</td>\n",
       "      <td>design buildings</td>\n",
       "      <td>Design buildings and housing projects in coope...</td>\n",
       "    </tr>\n",
       "    <tr>\n",
       "      <th>7717</th>\n",
       "      <td>sector-specific</td>\n",
       "      <td>advise on architectural matters</td>\n",
       "      <td>Provide advice on architectural design, based ...</td>\n",
       "    </tr>\n",
       "    <tr>\n",
       "      <th>12256</th>\n",
       "      <td>cross-sector</td>\n",
       "      <td>manage artworks' installation in the gallery</td>\n",
       "      <td>Organise tools and equipment; ensure correct a...</td>\n",
       "    </tr>\n",
       "    <tr>\n",
       "      <th>11510</th>\n",
       "      <td>occupation-specific</td>\n",
       "      <td>design open spaces</td>\n",
       "      <td>Design social areas and open spaces working in...</td>\n",
       "    </tr>\n",
       "    <tr>\n",
       "      <th>13265</th>\n",
       "      <td>cross-sector</td>\n",
       "      <td>draw design sketches</td>\n",
       "      <td>Create rough pictures to assist in creating an...</td>\n",
       "    </tr>\n",
       "    <tr>\n",
       "      <th>6790</th>\n",
       "      <td>occupation-specific</td>\n",
       "      <td>teach design and applied arts principles</td>\n",
       "      <td>Instruct students in the theory and practice o...</td>\n",
       "    </tr>\n",
       "    <tr>\n",
       "      <th>8726</th>\n",
       "      <td>sector-specific</td>\n",
       "      <td>design original furniture</td>\n",
       "      <td>Master and develop industrial aesthetics throu...</td>\n",
       "    </tr>\n",
       "    <tr>\n",
       "      <th>11953</th>\n",
       "      <td>sector-specific</td>\n",
       "      <td>handle art</td>\n",
       "      <td>Work directly with objects in museums and art ...</td>\n",
       "    </tr>\n",
       "    <tr>\n",
       "      <th>11216</th>\n",
       "      <td>sector-specific</td>\n",
       "      <td>collaborate with designers</td>\n",
       "      <td>Communicate and collaborate with fellow design...</td>\n",
       "    </tr>\n",
       "    <tr>\n",
       "      <th>11512</th>\n",
       "      <td>sector-specific</td>\n",
       "      <td>work independently on exhibitions</td>\n",
       "      <td>Work autonomously on the development of a fram...</td>\n",
       "    </tr>\n",
       "    <tr>\n",
       "      <th>7878</th>\n",
       "      <td>sector-specific</td>\n",
       "      <td>advise on art handling</td>\n",
       "      <td>Advise and instruct other museum professionals...</td>\n",
       "    </tr>\n",
       "    <tr>\n",
       "      <th>10808</th>\n",
       "      <td>occupation-specific</td>\n",
       "      <td>manage logistics according to the desired work</td>\n",
       "      <td>Adapt to the environment - especially in an ur...</td>\n",
       "    </tr>\n",
       "    <tr>\n",
       "      <th>7280</th>\n",
       "      <td>cross-sector</td>\n",
       "      <td>translate artistic concepts to technical designs</td>\n",
       "      <td>Cooperate with the artistic team in order to f...</td>\n",
       "    </tr>\n",
       "    <tr>\n",
       "      <th>7377</th>\n",
       "      <td>sector-specific</td>\n",
       "      <td>support a designer in the developing process</td>\n",
       "      <td>Support designers in the course of the develop...</td>\n",
       "    </tr>\n",
       "    <tr>\n",
       "      <th>7569</th>\n",
       "      <td>sector-specific</td>\n",
       "      <td>select artwork developed by staff members</td>\n",
       "      <td>Review and approve designs, artwork, photograp...</td>\n",
       "    </tr>\n",
       "    <tr>\n",
       "      <th>9129</th>\n",
       "      <td>sector-specific</td>\n",
       "      <td>develop a specific interior design</td>\n",
       "      <td>Develop a conceptual interior design fitting t...</td>\n",
       "    </tr>\n",
       "    <tr>\n",
       "      <th>790</th>\n",
       "      <td>occupation-specific</td>\n",
       "      <td>manage mediation staff</td>\n",
       "      <td>Manage, direct and coach the museum or any art...</td>\n",
       "    </tr>\n",
       "    <tr>\n",
       "      <th>9957</th>\n",
       "      <td>sector-specific</td>\n",
       "      <td>draw up artistic project proposals</td>\n",
       "      <td>Write project proposals for art facilities, ar...</td>\n",
       "    </tr>\n",
       "    <tr>\n",
       "      <th>2181</th>\n",
       "      <td>sector-specific</td>\n",
       "      <td>plan art educational activities</td>\n",
       "      <td>Plan and implement artistic facilities, perfor...</td>\n",
       "    </tr>\n",
       "  </tbody>\n",
       "</table>\n",
       "</div>"
      ],
      "text/plain": [
       "                reuseLevel                                    preferredLabel  \\\n",
       "4849       sector-specific    collaborate with technical experts on artworks   \n",
       "6607          cross-sector                                  design buildings   \n",
       "7717       sector-specific                   advise on architectural matters   \n",
       "12256         cross-sector      manage artworks' installation in the gallery   \n",
       "11510  occupation-specific                                design open spaces   \n",
       "13265         cross-sector                              draw design sketches   \n",
       "6790   occupation-specific          teach design and applied arts principles   \n",
       "8726       sector-specific                         design original furniture   \n",
       "11953      sector-specific                                        handle art   \n",
       "11216      sector-specific                        collaborate with designers   \n",
       "11512      sector-specific                 work independently on exhibitions   \n",
       "7878       sector-specific                            advise on art handling   \n",
       "10808  occupation-specific    manage logistics according to the desired work   \n",
       "7280          cross-sector  translate artistic concepts to technical designs   \n",
       "7377       sector-specific      support a designer in the developing process   \n",
       "7569       sector-specific         select artwork developed by staff members   \n",
       "9129       sector-specific                develop a specific interior design   \n",
       "790    occupation-specific                            manage mediation staff   \n",
       "9957       sector-specific                draw up artistic project proposals   \n",
       "2181       sector-specific                   plan art educational activities   \n",
       "\n",
       "                                             description  \n",
       "4849   Collaborate with engineers, mechanics, and oth...  \n",
       "6607   Design buildings and housing projects in coope...  \n",
       "7717   Provide advice on architectural design, based ...  \n",
       "12256  Organise tools and equipment; ensure correct a...  \n",
       "11510  Design social areas and open spaces working in...  \n",
       "13265  Create rough pictures to assist in creating an...  \n",
       "6790   Instruct students in the theory and practice o...  \n",
       "8726   Master and develop industrial aesthetics throu...  \n",
       "11953  Work directly with objects in museums and art ...  \n",
       "11216  Communicate and collaborate with fellow design...  \n",
       "11512  Work autonomously on the development of a fram...  \n",
       "7878   Advise and instruct other museum professionals...  \n",
       "10808  Adapt to the environment - especially in an ur...  \n",
       "7280   Cooperate with the artistic team in order to f...  \n",
       "7377   Support designers in the course of the develop...  \n",
       "7569   Review and approve designs, artwork, photograp...  \n",
       "9129   Develop a conceptual interior design fitting t...  \n",
       "790    Manage, direct and coach the museum or any art...  \n",
       "9957   Write project proposals for art facilities, ar...  \n",
       "2181   Plan and implement artistic facilities, perfor...  "
      ]
     },
     "execution_count": 15,
     "metadata": {},
     "output_type": "execute_result"
    }
   ],
   "source": [
    "topk=20\n",
    "text = \"\"\"\n",
    "Assistant in site supervision and design of interior fittings of a hotel.\n",
    "\n",
    "\n",
    "Design of houses and gas stations in Autocad R12.\n",
    "\n",
    "\n",
    "Process corporate actions in clients' holdings.\n",
    "\n",
    "\n",
    "Assistant in HVAC design (Autocad), PEB / insulation calculations.\n",
    "\n",
    "\n",
    "Co-ordination of interior finishes, preparation of shop drawings in Autocad 2000 for the fit-out of the Petronas Twin Towers(office building).\n",
    "\"\"\"\n",
    "emb_doc = skill_extr_obj.model.encode([text])\n",
    "D, i = skill_extr_obj.index.search(emb_doc, topk)\n",
    "q = skill_extr_obj.get_skills_by_ids(i[0].tolist())[['reuseLevel', 'preferredLabel', 'description']]\n",
    "q"
   ]
  },
  {
   "cell_type": "code",
   "execution_count": 4,
   "metadata": {},
   "outputs": [
    {
     "data": {
      "text/plain": [
       "array([[ 4849,  6607,  7717, 12256, 11510]], dtype=int64)"
      ]
     },
     "execution_count": 4,
     "metadata": {},
     "output_type": "execute_result"
    }
   ],
   "source": [
    "i"
   ]
  }
 ],
 "metadata": {
  "interpreter": {
   "hash": "72a18b338263b9fdf3b5db7e20deebee1fbf9b048ba1325b28d2697210ea498e"
  },
  "kernelspec": {
   "display_name": "Python 3.8.8 ('base')",
   "language": "python",
   "name": "python3"
  },
  "language_info": {
   "codemirror_mode": {
    "name": "ipython",
    "version": 3
   },
   "file_extension": ".py",
   "mimetype": "text/x-python",
   "name": "python",
   "nbconvert_exporter": "python",
   "pygments_lexer": "ipython3",
   "version": "3.8.12"
  },
  "orig_nbformat": 4
 },
 "nbformat": 4,
 "nbformat_minor": 2
}
